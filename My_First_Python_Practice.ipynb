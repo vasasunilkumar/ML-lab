{
  "nbformat": 4,
  "nbformat_minor": 0,
  "metadata": {
    "colab": {
      "name": "My First Python Practice.ipynb",
      "provenance": [],
      "collapsed_sections": [],
      "authorship_tag": "ABX9TyNsSDFJ7qeqM12qq1VLZnPA",
      "include_colab_link": true
    },
    "kernelspec": {
      "name": "python3",
      "display_name": "Python 3"
    }
  },
  "cells": [
    {
      "cell_type": "markdown",
      "metadata": {
        "id": "view-in-github",
        "colab_type": "text"
      },
      "source": [
        "<a href=\"https://colab.research.google.com/github/vasasunilkumar/ML-lab/blob/master/My_First_Python_Practice.ipynb\" target=\"_parent\"><img src=\"https://colab.research.google.com/assets/colab-badge.svg\" alt=\"Open In Colab\"/></a>"
      ]
    },
    {
      "cell_type": "code",
      "metadata": {
        "id": "2Q-5fqZ-0bdT",
        "colab_type": "code",
        "outputId": "3279a1c4-5ac3-468d-a657-6e755f38e5d4",
        "colab": {
          "base_uri": "https://localhost:8080/",
          "height": 34
        }
      },
      "source": [
        "print(\"hello world\")"
      ],
      "execution_count": 0,
      "outputs": [
        {
          "output_type": "stream",
          "text": [
            "hello world\n"
          ],
          "name": "stdout"
        }
      ]
    },
    {
      "cell_type": "markdown",
      "metadata": {
        "id": "uraFvMgx-1un",
        "colab_type": "text"
      },
      "source": [
        "My first program\n",
        "\n"
      ]
    },
    {
      "cell_type": "code",
      "metadata": {
        "id": "nC0Rm7EC03GU",
        "colab_type": "code",
        "outputId": "5e1ae7de-f800-4bed-913e-5fc5fa2da0fe",
        "colab": {
          "base_uri": "https://localhost:8080/",
          "height": 102
        }
      },
      "source": [
        "for i in range(5):\n",
        "  print(i)"
      ],
      "execution_count": 0,
      "outputs": [
        {
          "output_type": "stream",
          "text": [
            "0\n",
            "1\n",
            "2\n",
            "3\n",
            "4\n"
          ],
          "name": "stdout"
        }
      ]
    },
    {
      "cell_type": "markdown",
      "metadata": {
        "id": "TYsLtoZfV0tE",
        "colab_type": "text"
      },
      "source": [
        "find the area of the circle"
      ]
    },
    {
      "cell_type": "code",
      "metadata": {
        "id": "LAR1Q2t92VUC",
        "colab_type": "code",
        "outputId": "ff50c8d0-015b-45c4-e03b-2ac2f7bef102",
        "colab": {
          "base_uri": "https://localhost:8080/",
          "height": 51
        }
      },
      "source": [
        "pi=3.14\n",
        "r=int(input(\"enter the radius of the circle:\"))\n",
        "area=pi*r*r\n",
        "area=print(\"area of the circle is:\",area)"
      ],
      "execution_count": 13,
      "outputs": [
        {
          "output_type": "stream",
          "text": [
            "enter the radius of the circle:7\n",
            "area of the circle is: 153.86\n"
          ],
          "name": "stdout"
        }
      ]
    },
    {
      "cell_type": "markdown",
      "metadata": {
        "id": "yFNzhv__V5L2",
        "colab_type": "text"
      },
      "source": [
        "arthametic operators"
      ]
    },
    {
      "cell_type": "code",
      "metadata": {
        "id": "XllTk7bsSdOz",
        "colab_type": "code",
        "colab": {
          "base_uri": "https://localhost:8080/",
          "height": 136
        },
        "outputId": "1ad5cf6a-c11b-4355-9e4a-6d14a9e4e677"
      },
      "source": [
        "n1=int(input(\"enter n1 value:\"))\n",
        "n2=int(input(\"enter n2 vlaue:\"))\n",
        "sum=n1+n2\n",
        "mul=n1*n2\n",
        "div=n1/n2\n",
        "sub=n1-n2\n",
        "modulo=n1%n2\n",
        "print(\"the sum of two numbers is:\",sum)\n",
        "print(\"the mulitplication of two numbers is:\",mul)\n",
        "print(\"the division of two numbers is:\",div)\n",
        "print(\"the subtraction of two numbers is:\",sub)\n",
        "print(\"the modulodivision of two numbers is:\",modulo)\n"
      ],
      "execution_count": 29,
      "outputs": [
        {
          "output_type": "stream",
          "text": [
            "enter n1 value:30\n",
            "enter n2 vlaue:20\n",
            "the sum of two numbers is: 50\n",
            "the mulitplication of two numbers is: 600\n",
            "the division of two numbers is: 1.5\n",
            "the subtraction of two numbers is: 10\n",
            "the modulodivision of two numbers is: 10\n"
          ],
          "name": "stdout"
        }
      ]
    },
    {
      "cell_type": "markdown",
      "metadata": {
        "id": "Pm021TmXXqpu",
        "colab_type": "text"
      },
      "source": [
        "example of if else satement"
      ]
    },
    {
      "cell_type": "code",
      "metadata": {
        "id": "irif-XcKWnM_",
        "colab_type": "code",
        "colab": {
          "base_uri": "https://localhost:8080/",
          "height": 51
        },
        "outputId": "e27a13b8-0eaa-45d1-d200-00c71acd21b6"
      },
      "source": [
        "year=int(input(\"enter a year:\"))\n",
        "if year%4==0:\n",
        "    print(\"Remainder is 0\",year,\"is leap year\")\n",
        "else:\n",
        "    print(\"Remainder is not 0\", year,\"is not a leap year\")"
      ],
      "execution_count": 36,
      "outputs": [
        {
          "output_type": "stream",
          "text": [
            "enter a year:2010\n",
            "Remainder is not 0 2010 is not a leap year\n"
          ],
          "name": "stdout"
        }
      ]
    },
    {
      "cell_type": "markdown",
      "metadata": {
        "id": "YvY-HGbDZST5",
        "colab_type": "text"
      },
      "source": [
        "if else  elif examples"
      ]
    },
    {
      "cell_type": "code",
      "metadata": {
        "id": "A9J4XURTYXRn",
        "colab_type": "code",
        "colab": {
          "base_uri": "https://localhost:8080/",
          "height": 68
        },
        "outputId": "c8e0f9bc-944e-4f5d-d74f-3ab214ca4231"
      },
      "source": [
        "n1=int(input(\"enter n1 vlaue\"))\n",
        "n2=int(input(\"enter n2 vlaue\"))\n",
        "if n1==10:\n",
        "  print(\"enter number is equal to n1:\")\n",
        "elif n2==20:\n",
        "  print(\"enter number is equal to n2:\")\n",
        "else:\n",
        "  print(\"enter nubers are not equal to given numbers\")"
      ],
      "execution_count": 42,
      "outputs": [
        {
          "output_type": "stream",
          "text": [
            "enter n1 vlaue30\n",
            "enter n2 vlaue40\n",
            "enter nubers are not equal to given numbers\n"
          ],
          "name": "stdout"
        }
      ]
    },
    {
      "cell_type": "markdown",
      "metadata": {
        "id": "0c61PwNIhYHE",
        "colab_type": "text"
      },
      "source": [
        "for loop example"
      ]
    },
    {
      "cell_type": "code",
      "metadata": {
        "id": "64mhfQ7-fdOh",
        "colab_type": "code",
        "colab": {
          "base_uri": "https://localhost:8080/",
          "height": 187
        },
        "outputId": "c2474fe0-c0d7-47d0-e855-1e8f125c2c12"
      },
      "source": [
        "sunil=[10,20,30,50,60]\n",
        "for x in sunil:\n",
        "  print(\"The value of x=\",x)\n",
        "  y=x+30\n",
        "  print(\"The value of y=\",y)"
      ],
      "execution_count": 66,
      "outputs": [
        {
          "output_type": "stream",
          "text": [
            "The value of x= 10\n",
            "The value of y= 40\n",
            "The value of x= 20\n",
            "The value of y= 50\n",
            "The value of x= 30\n",
            "The value of y= 60\n",
            "The value of x= 50\n",
            "The value of y= 80\n",
            "The value of x= 60\n",
            "The value of y= 90\n"
          ],
          "name": "stdout"
        }
      ]
    },
    {
      "cell_type": "code",
      "metadata": {
        "id": "ZUXJdJKuht4E",
        "colab_type": "code",
        "colab": {
          "base_uri": "https://localhost:8080/",
          "height": 357
        },
        "outputId": "e8dcd1a0-e5a4-48b0-b4ff-38a18b29b49f"
      },
      "source": [
        "for i in range(20):\n",
        "  print(i)"
      ],
      "execution_count": 71,
      "outputs": [
        {
          "output_type": "stream",
          "text": [
            "0\n",
            "1\n",
            "2\n",
            "3\n",
            "4\n",
            "5\n",
            "6\n",
            "7\n",
            "8\n",
            "9\n",
            "10\n",
            "11\n",
            "12\n",
            "13\n",
            "14\n",
            "15\n",
            "16\n",
            "17\n",
            "18\n",
            "19\n"
          ],
          "name": "stdout"
        }
      ]
    },
    {
      "cell_type": "code",
      "metadata": {
        "id": "PhjMsOPDiKAu",
        "colab_type": "code",
        "colab": {
          "base_uri": "https://localhost:8080/",
          "height": 119
        },
        "outputId": "9ebe7d5e-6d3f-4f3d-a82c-429e719acf3b"
      },
      "source": [
        "sunil=['aditya','srikatnh','chinabau','Hemanth','Satya','RajaNaidu']\n",
        "for x in sunil:\n",
        "  print(x)"
      ],
      "execution_count": 87,
      "outputs": [
        {
          "output_type": "stream",
          "text": [
            "aditya\n",
            "srikatnh\n",
            "chinabau\n",
            "Hemanth\n",
            "Satya\n",
            "RajaNaidu\n"
          ],
          "name": "stdout"
        }
      ]
    },
    {
      "cell_type": "markdown",
      "metadata": {
        "id": "PNeoSCCzl-hm",
        "colab_type": "text"
      },
      "source": [
        "while loop example"
      ]
    },
    {
      "cell_type": "code",
      "metadata": {
        "id": "L2bZOlwml80r",
        "colab_type": "code",
        "colab": {
          "base_uri": "https://localhost:8080/",
          "height": 374
        },
        "outputId": "dd79fd2f-2d79-4212-ef9f-9e57a39960bf"
      },
      "source": [
        "x=int(input(\"enter a number\"))\n",
        "while x<=20:\n",
        "  print(x)\n",
        "  x=x+1"
      ],
      "execution_count": 99,
      "outputs": [
        {
          "output_type": "stream",
          "text": [
            "enter a number1\n",
            "1\n",
            "2\n",
            "3\n",
            "4\n",
            "5\n",
            "6\n",
            "7\n",
            "8\n",
            "9\n",
            "10\n",
            "11\n",
            "12\n",
            "13\n",
            "14\n",
            "15\n",
            "16\n",
            "17\n",
            "18\n",
            "19\n",
            "20\n"
          ],
          "name": "stdout"
        }
      ]
    }
  ]
}