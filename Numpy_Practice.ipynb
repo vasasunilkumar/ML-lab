{
  "nbformat": 4,
  "nbformat_minor": 0,
  "metadata": {
    "colab": {
      "name": "Numpy Practice.ipynb",
      "provenance": [],
      "collapsed_sections": [],
      "authorship_tag": "ABX9TyM4FI5IshiJSOV2W6bZgkWs",
      "include_colab_link": true
    },
    "kernelspec": {
      "name": "python3",
      "display_name": "Python 3"
    }
  },
  "cells": [
    {
      "cell_type": "markdown",
      "metadata": {
        "id": "view-in-github",
        "colab_type": "text"
      },
      "source": [
        "<a href=\"https://colab.research.google.com/github/vasasunilkumar/ML-lab/blob/master/Numpy_Practice.ipynb\" target=\"_parent\"><img src=\"https://colab.research.google.com/assets/colab-badge.svg\" alt=\"Open In Colab\"/></a>"
      ]
    },
    {
      "cell_type": "code",
      "metadata": {
        "id": "rqP5dx6GZGy5",
        "colab_type": "code",
        "colab": {}
      },
      "source": [
        "import numpy as np\n"
      ],
      "execution_count": 0,
      "outputs": []
    },
    {
      "cell_type": "markdown",
      "metadata": {
        "id": "rIWkwuSDEI51",
        "colab_type": "text"
      },
      "source": [
        "diff b/w list and numpy array\n",
        "lsit can store different type of data that is [int,float,string].\n",
        "arrray can store same daya type of data that is [1,2,3,4]"
      ]
    },
    {
      "cell_type": "code",
      "metadata": {
        "id": "YmrKfFF6DTDG",
        "colab_type": "code",
        "colab": {
          "base_uri": "https://localhost:8080/",
          "height": 51
        },
        "outputId": "9ef49b6b-53f7-41b7-f93f-de77d0de0352"
      },
      "source": [
        "a = np.array([[3,6,9,12],[15,18,21,24]],dtype=\"int\")\n",
        "a/3\n"
      ],
      "execution_count": 63,
      "outputs": [
        {
          "output_type": "execute_result",
          "data": {
            "text/plain": [
              "array([[1., 2., 3., 4.],\n",
              "       [5., 6., 7., 8.]])"
            ]
          },
          "metadata": {
            "tags": []
          },
          "execution_count": 63
        }
      ]
    },
    {
      "cell_type": "code",
      "metadata": {
        "id": "aoxWYX91D6E-",
        "colab_type": "code",
        "colab": {
          "base_uri": "https://localhost:8080/",
          "height": 180
        },
        "outputId": "a33342ae-e0e1-4132-bee8-fbaf701dfd19"
      },
      "source": [
        "list1 = [2,4,6,8]\n",
        "list1/2"
      ],
      "execution_count": 64,
      "outputs": [
        {
          "output_type": "error",
          "ename": "TypeError",
          "evalue": "ignored",
          "traceback": [
            "\u001b[0;31m---------------------------------------------------------------------------\u001b[0m",
            "\u001b[0;31mTypeError\u001b[0m                                 Traceback (most recent call last)",
            "\u001b[0;32m<ipython-input-64-b27a5ff39723>\u001b[0m in \u001b[0;36m<module>\u001b[0;34m()\u001b[0m\n\u001b[1;32m      1\u001b[0m \u001b[0mlist1\u001b[0m \u001b[0;34m=\u001b[0m \u001b[0;34m[\u001b[0m\u001b[0;36m2\u001b[0m\u001b[0;34m,\u001b[0m\u001b[0;36m4\u001b[0m\u001b[0;34m,\u001b[0m\u001b[0;36m6\u001b[0m\u001b[0;34m,\u001b[0m\u001b[0;36m8\u001b[0m\u001b[0;34m]\u001b[0m\u001b[0;34m\u001b[0m\u001b[0;34m\u001b[0m\u001b[0m\n\u001b[0;32m----> 2\u001b[0;31m \u001b[0mlist1\u001b[0m\u001b[0;34m/\u001b[0m\u001b[0;36m2\u001b[0m\u001b[0;34m\u001b[0m\u001b[0;34m\u001b[0m\u001b[0m\n\u001b[0m",
            "\u001b[0;31mTypeError\u001b[0m: unsupported operand type(s) for /: 'list' and 'int'"
          ]
        }
      ]
    },
    {
      "cell_type": "code",
      "metadata": {
        "id": "s4AQhX6atIFZ",
        "colab_type": "code",
        "outputId": "b2d291e9-1cdf-46b1-b0ec-4b0faaa179fb",
        "colab": {
          "base_uri": "https://localhost:8080/",
          "height": 35
        }
      },
      "source": [
        "a=np.arange((10),dtype=\"int\")\n",
        "a"
      ],
      "execution_count": 0,
      "outputs": [
        {
          "output_type": "execute_result",
          "data": {
            "text/plain": [
              "array([0, 1, 2, 3, 4, 5, 6, 7, 8, 9])"
            ]
          },
          "metadata": {
            "tags": []
          },
          "execution_count": 5
        }
      ]
    },
    {
      "cell_type": "code",
      "metadata": {
        "id": "g63CdkubZOsQ",
        "colab_type": "code",
        "outputId": "309414d3-b653-4f77-9907-6d3f13be5223",
        "colab": {
          "base_uri": "https://localhost:8080/",
          "height": 34
        }
      },
      "source": [
        "a = np.array([1,2,3])\n",
        "a"
      ],
      "execution_count": 0,
      "outputs": [
        {
          "output_type": "execute_result",
          "data": {
            "text/plain": [
              "array([1, 2, 3])"
            ]
          },
          "metadata": {
            "tags": []
          },
          "execution_count": 3
        }
      ]
    },
    {
      "cell_type": "markdown",
      "metadata": {
        "id": "bjhiganhEv8Z",
        "colab_type": "text"
      },
      "source": [
        "two dimensional array below ex"
      ]
    },
    {
      "cell_type": "code",
      "metadata": {
        "id": "txJyYWR9Zgjh",
        "colab_type": "code",
        "outputId": "bd506f59-c1a3-4863-eefb-08a6df8bd5c8",
        "colab": {
          "base_uri": "https://localhost:8080/",
          "height": 51
        }
      },
      "source": [
        "a = np.array([[1,2],[2,3]])\n",
        "a"
      ],
      "execution_count": 0,
      "outputs": [
        {
          "output_type": "execute_result",
          "data": {
            "text/plain": [
              "array([[1, 2],\n",
              "       [2, 3]])"
            ]
          },
          "metadata": {
            "tags": []
          },
          "execution_count": 5
        }
      ]
    },
    {
      "cell_type": "markdown",
      "metadata": {
        "id": "WOQrqE2DEn5J",
        "colab_type": "text"
      },
      "source": [
        "two dimensional array using tuple"
      ]
    },
    {
      "cell_type": "code",
      "metadata": {
        "id": "Sgf_usE6Z0Bw",
        "colab_type": "code",
        "outputId": "befd316d-056c-4f57-97fb-507c8f33604e",
        "colab": {
          "base_uri": "https://localhost:8080/",
          "height": 51
        }
      },
      "source": [
        "a = np.array(((1,2),(2,3)))\n",
        "a"
      ],
      "execution_count": 0,
      "outputs": [
        {
          "output_type": "execute_result",
          "data": {
            "text/plain": [
              "array([[1, 2],\n",
              "       [2, 3]])"
            ]
          },
          "metadata": {
            "tags": []
          },
          "execution_count": 9
        }
      ]
    },
    {
      "cell_type": "markdown",
      "metadata": {
        "id": "jrdbkoTVE2Uz",
        "colab_type": "text"
      },
      "source": [
        "in below example mention the type of data that is int,float,complex...."
      ]
    },
    {
      "cell_type": "code",
      "metadata": {
        "id": "uZPgCqIDaGyN",
        "colab_type": "code",
        "outputId": "5a2eedd9-babc-4e8c-97b9-24a3ba4d9555",
        "colab": {
          "base_uri": "https://localhost:8080/",
          "height": 34
        }
      },
      "source": [
        "a=np.array([2,3],dtype=\"complex\")\n",
        "print(a)"
      ],
      "execution_count": 0,
      "outputs": [
        {
          "output_type": "stream",
          "text": [
            "[2.+0.j 3.+0.j]\n"
          ],
          "name": "stdout"
        }
      ]
    },
    {
      "cell_type": "markdown",
      "metadata": {
        "id": "U96uLGCUFJxB",
        "colab_type": "text"
      },
      "source": [
        "in below example mention ndmin that is ndimensinoal array below exmple output is two dimensional array i mention the ndmin=2 i.e two dimensional... array"
      ]
    },
    {
      "cell_type": "code",
      "metadata": {
        "id": "tWvqi1Iwaym4",
        "colab_type": "code",
        "outputId": "7b0f53c7-deb8-4573-83fa-5555b87b94fa",
        "colab": {
          "base_uri": "https://localhost:8080/",
          "height": 34
        }
      },
      "source": [
        "a=np.array([1,2,3,4],ndmin=2,dtype=\"complex\")\n",
        "print(a)\n"
      ],
      "execution_count": 0,
      "outputs": [
        {
          "output_type": "stream",
          "text": [
            "[[1.+0.j 2.+0.j 3.+0.j 4.+0.j]]\n"
          ],
          "name": "stdout"
        }
      ]
    },
    {
      "cell_type": "code",
      "metadata": {
        "id": "_s2HFTtNheRO",
        "colab_type": "code",
        "outputId": "44a68711-7ef4-4874-9851-0a8d8879619e",
        "colab": {
          "base_uri": "https://localhost:8080/",
          "height": 34
        }
      },
      "source": [
        "a = np.array([[1,2,3],[4,5,6],[4,8,9]])\n",
        "a.shape"
      ],
      "execution_count": 0,
      "outputs": [
        {
          "output_type": "execute_result",
          "data": {
            "text/plain": [
              "(3, 3)"
            ]
          },
          "metadata": {
            "tags": []
          },
          "execution_count": 23
        }
      ]
    },
    {
      "cell_type": "code",
      "metadata": {
        "id": "ytLcdniDhy_c",
        "colab_type": "code",
        "outputId": "630dde73-acef-48ba-b83d-0c4e440096fd",
        "colab": {
          "base_uri": "https://localhost:8080/",
          "height": 68
        }
      },
      "source": [
        "a=np.array([[1,2,3],[4,5,6],[7,8,9]],order=\"c\")\n",
        "a.shape=(3,3)\n",
        "a"
      ],
      "execution_count": 68,
      "outputs": [
        {
          "output_type": "execute_result",
          "data": {
            "text/plain": [
              "array([[1, 2, 3],\n",
              "       [4, 5, 6],\n",
              "       [7, 8, 9]])"
            ]
          },
          "metadata": {
            "tags": []
          },
          "execution_count": 68
        }
      ]
    },
    {
      "cell_type": "code",
      "metadata": {
        "id": "TZdIqDIqi5ye",
        "colab_type": "code",
        "outputId": "a56a3e96-4125-4c35-c6ff-9a5b55f1a420",
        "colab": {
          "base_uri": "https://localhost:8080/",
          "height": 136
        }
      },
      "source": [
        "a=np.arange(24)\n",
        "b=a.reshape(2,3,4)\n",
        "b"
      ],
      "execution_count": 0,
      "outputs": [
        {
          "output_type": "execute_result",
          "data": {
            "text/plain": [
              "array([[[ 0,  1,  2,  3],\n",
              "        [ 4,  5,  6,  7],\n",
              "        [ 8,  9, 10, 11]],\n",
              "\n",
              "       [[12, 13, 14, 15],\n",
              "        [16, 17, 18, 19],\n",
              "        [20, 21, 22, 23]]])"
            ]
          },
          "metadata": {
            "tags": []
          },
          "execution_count": 51
        }
      ]
    },
    {
      "cell_type": "markdown",
      "metadata": {
        "id": "6rvmzwGuFxuk",
        "colab_type": "text"
      },
      "source": [
        "arange() creates an array of evenly spaced values..."
      ]
    },
    {
      "cell_type": "code",
      "metadata": {
        "id": "ZZPlnBgw7Z6o",
        "colab_type": "code",
        "colab": {
          "base_uri": "https://localhost:8080/",
          "height": 34
        },
        "outputId": "4b963c47-d8c2-4ea8-dd3c-5eddc61758d1"
      },
      "source": [
        "a = np.arange(1,10,2 )\n",
        "a\n"
      ],
      "execution_count": 72,
      "outputs": [
        {
          "output_type": "execute_result",
          "data": {
            "text/plain": [
              "array([1, 2, 3, 4, 5, 6, 7, 8, 9])"
            ]
          },
          "metadata": {
            "tags": []
          },
          "execution_count": 72
        }
      ]
    },
    {
      "cell_type": "code",
      "metadata": {
        "id": "_lnEh54t7n5h",
        "colab_type": "code",
        "colab": {
          "base_uri": "https://localhost:8080/",
          "height": 68
        },
        "outputId": "e82cd1ae-0999-418e-da17-2b60cb6231f6"
      },
      "source": [
        "a = np.arange(20,dtype=\"complex\")\n",
        "a"
      ],
      "execution_count": 3,
      "outputs": [
        {
          "output_type": "execute_result",
          "data": {
            "text/plain": [
              "array([ 0.+0.j,  1.+0.j,  2.+0.j,  3.+0.j,  4.+0.j,  5.+0.j,  6.+0.j,\n",
              "        7.+0.j,  8.+0.j,  9.+0.j, 10.+0.j, 11.+0.j, 12.+0.j, 13.+0.j,\n",
              "       14.+0.j, 15.+0.j, 16.+0.j, 17.+0.j, 18.+0.j, 19.+0.j])"
            ]
          },
          "metadata": {
            "tags": []
          },
          "execution_count": 3
        }
      ]
    },
    {
      "cell_type": "code",
      "metadata": {
        "id": "E8amtXV87380",
        "colab_type": "code",
        "colab": {
          "base_uri": "https://localhost:8080/",
          "height": 51
        },
        "outputId": "b2d95748-2f36-4eaa-83fe-49205814d279"
      },
      "source": [
        "a = np.array(((1,2),(2,2)))\n",
        "a"
      ],
      "execution_count": 5,
      "outputs": [
        {
          "output_type": "execute_result",
          "data": {
            "text/plain": [
              "array([[1, 2],\n",
              "       [2, 2]])"
            ]
          },
          "metadata": {
            "tags": []
          },
          "execution_count": 5
        }
      ]
    },
    {
      "cell_type": "markdown",
      "metadata": {
        "id": "RcoVz7nvGS17",
        "colab_type": "text"
      },
      "source": [
        "zero() creates array filled with 0s"
      ]
    },
    {
      "cell_type": "code",
      "metadata": {
        "id": "iQJT189t8UVd",
        "colab_type": "code",
        "colab": {
          "base_uri": "https://localhost:8080/",
          "height": 68
        },
        "outputId": "3bdcb418-51c4-490e-fb89-bbe4e91fa04e"
      },
      "source": [
        "np.zeros((3,4),dtype=\"int\")\n"
      ],
      "execution_count": 7,
      "outputs": [
        {
          "output_type": "execute_result",
          "data": {
            "text/plain": [
              "array([[0, 0, 0, 0],\n",
              "       [0, 0, 0, 0],\n",
              "       [0, 0, 0, 0]])"
            ]
          },
          "metadata": {
            "tags": []
          },
          "execution_count": 7
        }
      ]
    },
    {
      "cell_type": "markdown",
      "metadata": {
        "id": "vRF1vnLJGg34",
        "colab_type": "text"
      },
      "source": [
        "ones() creates array filled with ones.."
      ]
    },
    {
      "cell_type": "code",
      "metadata": {
        "id": "_wedi4pV8r8B",
        "colab_type": "code",
        "colab": {
          "base_uri": "https://localhost:8080/",
          "height": 68
        },
        "outputId": "6aa94790-d64d-45a1-bdd5-ce9e124d285e"
      },
      "source": [
        "np.ones((3,4),dtype=\"int\")"
      ],
      "execution_count": 10,
      "outputs": [
        {
          "output_type": "execute_result",
          "data": {
            "text/plain": [
              "array([[1, 1, 1, 1],\n",
              "       [1, 1, 1, 1],\n",
              "       [1, 1, 1, 1]])"
            ]
          },
          "metadata": {
            "tags": []
          },
          "execution_count": 10
        }
      ]
    },
    {
      "cell_type": "markdown",
      "metadata": {
        "id": "kdrfn5a4Gnje",
        "colab_type": "text"
      },
      "source": [
        "linspace() creates array filled evenly spaced values....\n"
      ]
    },
    {
      "cell_type": "code",
      "metadata": {
        "id": "_WBGxQWh8-En",
        "colab_type": "code",
        "colab": {
          "base_uri": "https://localhost:8080/",
          "height": 34
        },
        "outputId": "87227673-dc20-44f5-fa48-49d5c4702ebd"
      },
      "source": [
        "a = np.linspace(5,100,num=5,dtype=\"int\",endpoint=\"false\")\n",
        "a"
      ],
      "execution_count": 20,
      "outputs": [
        {
          "output_type": "execute_result",
          "data": {
            "text/plain": [
              "array([  5,  28,  52,  76, 100])"
            ]
          },
          "metadata": {
            "tags": []
          },
          "execution_count": 20
        }
      ]
    },
    {
      "cell_type": "code",
      "metadata": {
        "id": "w89ol8fE-EBv",
        "colab_type": "code",
        "colab": {
          "base_uri": "https://localhost:8080/",
          "height": 102
        },
        "outputId": "e0fcb7f9-35b6-411a-a176-22b45a52cbbe"
      },
      "source": [
        "a = np.linspace(1,1000,dtype=\"int\",num=50)\n",
        "a"
      ],
      "execution_count": 26,
      "outputs": [
        {
          "output_type": "execute_result",
          "data": {
            "text/plain": [
              "array([   1,   21,   41,   62,   82,  102,  123,  143,  164,  184,  204,\n",
              "        225,  245,  266,  286,  306,  327,  347,  367,  388,  408,  429,\n",
              "        449,  469,  490,  510,  531,  551,  571,  592,  612,  633,  653,\n",
              "        673,  694,  714,  734,  755,  775,  796,  816,  836,  857,  877,\n",
              "        898,  918,  938,  959,  979, 1000])"
            ]
          },
          "metadata": {
            "tags": []
          },
          "execution_count": 26
        }
      ]
    },
    {
      "cell_type": "markdown",
      "metadata": {
        "id": "PJwzZAx09JMS",
        "colab_type": "text"
      },
      "source": [
        "Linspace()  if not mention the num parameter in linspace consider has default num in the example below.."
      ]
    },
    {
      "cell_type": "code",
      "metadata": {
        "id": "fem7D8Gq-2nJ",
        "colab_type": "code",
        "colab": {
          "base_uri": "https://localhost:8080/",
          "height": 187
        },
        "outputId": "24bcd5ad-d59e-4cc9-cd97-5b2bb9c3de02"
      },
      "source": [
        "a = np.linspace(1,10)\n",
        "a"
      ],
      "execution_count": 31,
      "outputs": [
        {
          "output_type": "execute_result",
          "data": {
            "text/plain": [
              "array([ 1.        ,  1.18367347,  1.36734694,  1.55102041,  1.73469388,\n",
              "        1.91836735,  2.10204082,  2.28571429,  2.46938776,  2.65306122,\n",
              "        2.83673469,  3.02040816,  3.20408163,  3.3877551 ,  3.57142857,\n",
              "        3.75510204,  3.93877551,  4.12244898,  4.30612245,  4.48979592,\n",
              "        4.67346939,  4.85714286,  5.04081633,  5.2244898 ,  5.40816327,\n",
              "        5.59183673,  5.7755102 ,  5.95918367,  6.14285714,  6.32653061,\n",
              "        6.51020408,  6.69387755,  6.87755102,  7.06122449,  7.24489796,\n",
              "        7.42857143,  7.6122449 ,  7.79591837,  7.97959184,  8.16326531,\n",
              "        8.34693878,  8.53061224,  8.71428571,  8.89795918,  9.08163265,\n",
              "        9.26530612,  9.44897959,  9.63265306,  9.81632653, 10.        ])"
            ]
          },
          "metadata": {
            "tags": []
          },
          "execution_count": 31
        }
      ]
    },
    {
      "cell_type": "markdown",
      "metadata": {
        "id": "X_xNLAnM_h_i",
        "colab_type": "text"
      },
      "source": [
        "eye() return ndarray(n,m) here n is for rows and m is for coloumns\n",
        "identity()  it is similar to eye()function. The identity array is a sqare array."
      ]
    },
    {
      "cell_type": "code",
      "metadata": {
        "id": "3X_CpIYb_b3m",
        "colab_type": "code",
        "colab": {
          "base_uri": "https://localhost:8080/",
          "height": 102
        },
        "outputId": "5ab99ff5-e7a7-40c6-d5e4-f3d82ac1eedd"
      },
      "source": [
        "np.eye(5,dtype='int')"
      ],
      "execution_count": 39,
      "outputs": [
        {
          "output_type": "execute_result",
          "data": {
            "text/plain": [
              "array([[1, 0, 0, 0, 0],\n",
              "       [0, 1, 0, 0, 0],\n",
              "       [0, 0, 1, 0, 0],\n",
              "       [0, 0, 0, 1, 0],\n",
              "       [0, 0, 0, 0, 1]])"
            ]
          },
          "metadata": {
            "tags": []
          },
          "execution_count": 39
        }
      ]
    },
    {
      "cell_type": "code",
      "metadata": {
        "id": "GdNB1HoCAEdr",
        "colab_type": "code",
        "colab": {
          "base_uri": "https://localhost:8080/",
          "height": 102
        },
        "outputId": "ebb353c6-4452-4973-968f-78d48aeca17d"
      },
      "source": [
        "np.identity(5,dtype='int')"
      ],
      "execution_count": 42,
      "outputs": [
        {
          "output_type": "execute_result",
          "data": {
            "text/plain": [
              "array([[1, 0, 0, 0, 0],\n",
              "       [0, 1, 0, 0, 0],\n",
              "       [0, 0, 1, 0, 0],\n",
              "       [0, 0, 0, 1, 0],\n",
              "       [0, 0, 0, 0, 1]])"
            ]
          },
          "metadata": {
            "tags": []
          },
          "execution_count": 42
        }
      ]
    },
    {
      "cell_type": "markdown",
      "metadata": {
        "id": "WxCUzdUAA3xH",
        "colab_type": "text"
      },
      "source": [
        "random()\n",
        "rand() uniformly distributed values"
      ]
    },
    {
      "cell_type": "code",
      "metadata": {
        "id": "ayRnebDyA2or",
        "colab_type": "code",
        "colab": {
          "base_uri": "https://localhost:8080/",
          "height": 102
        },
        "outputId": "21172305-c0fc-4eb0-c3d6-ca05e4d30f1c"
      },
      "source": [
        "np.random.rand(5,2)"
      ],
      "execution_count": 52,
      "outputs": [
        {
          "output_type": "execute_result",
          "data": {
            "text/plain": [
              "array([[0.7818003 , 0.83091281],\n",
              "       [0.07794206, 0.38683082],\n",
              "       [0.17813502, 0.94490919],\n",
              "       [0.09919887, 0.31367923],\n",
              "       [0.39300498, 0.99832797]])"
            ]
          },
          "metadata": {
            "tags": []
          },
          "execution_count": 52
        }
      ]
    },
    {
      "cell_type": "markdown",
      "metadata": {
        "id": "fDS_CWGxB-hX",
        "colab_type": "text"
      },
      "source": [
        "randn() normaly distributed values"
      ]
    },
    {
      "cell_type": "code",
      "metadata": {
        "id": "3GlgneT9B0k_",
        "colab_type": "code",
        "colab": {
          "base_uri": "https://localhost:8080/",
          "height": 102
        },
        "outputId": "6ce1486b-5b40-4e31-e74c-4e0b84db1357"
      },
      "source": [
        "np.random.randn(5,4)"
      ],
      "execution_count": 51,
      "outputs": [
        {
          "output_type": "execute_result",
          "data": {
            "text/plain": [
              "array([[-1.10266163, -0.41510875,  1.10816509, -0.4033804 ],\n",
              "       [ 0.60734571, -0.44360219,  1.70325896,  0.07057581],\n",
              "       [-0.14614659,  0.87095892, -0.00448117, -0.97264192],\n",
              "       [-0.99680317, -0.39771168,  1.25991018,  0.06020896],\n",
              "       [-1.0821774 , -0.06698528, -0.14708126,  1.03966192]])"
            ]
          },
          "metadata": {
            "tags": []
          },
          "execution_count": 51
        }
      ]
    },
    {
      "cell_type": "markdown",
      "metadata": {
        "id": "aGgURe-ICPVX",
        "colab_type": "text"
      },
      "source": [
        "randint() uniformly distributed integers in a given range"
      ]
    },
    {
      "cell_type": "code",
      "metadata": {
        "id": "TdKilzWOCTVO",
        "colab_type": "code",
        "colab": {
          "base_uri": "https://localhost:8080/",
          "height": 34
        },
        "outputId": "3ea3cfec-7be5-4d4f-e724-f466aebe4f5c"
      },
      "source": [
        "np.random.randint(10,size=5)"
      ],
      "execution_count": 54,
      "outputs": [
        {
          "output_type": "execute_result",
          "data": {
            "text/plain": [
              "array([6, 6, 8, 6, 9])"
            ]
          },
          "metadata": {
            "tags": []
          },
          "execution_count": 54
        }
      ]
    },
    {
      "cell_type": "code",
      "metadata": {
        "id": "31wlIWgeCgUG",
        "colab_type": "code",
        "colab": {
          "base_uri": "https://localhost:8080/",
          "height": 51
        },
        "outputId": "717401c5-3c72-480a-f8e5-776a1d643bfc"
      },
      "source": [
        "np.random.randint(2,5,size=(2,5))"
      ],
      "execution_count": 56,
      "outputs": [
        {
          "output_type": "execute_result",
          "data": {
            "text/plain": [
              "array([[3, 3, 3, 4, 4],\n",
              "       [4, 3, 2, 2, 2]])"
            ]
          },
          "metadata": {
            "tags": []
          },
          "execution_count": 56
        }
      ]
    },
    {
      "cell_type": "markdown",
      "metadata": {
        "id": "jEizWIPVCu0q",
        "colab_type": "text"
      },
      "source": [
        "randf() uniformly distributed floating point"
      ]
    },
    {
      "cell_type": "code",
      "metadata": {
        "id": "-1Z5dCm_CxN-",
        "colab_type": "code",
        "colab": {
          "base_uri": "https://localhost:8080/",
          "height": 34
        },
        "outputId": "8b594747-dc95-467a-9f05-fe4484b84ac5"
      },
      "source": [
        "np.random.ranf(5)"
      ],
      "execution_count": 58,
      "outputs": [
        {
          "output_type": "execute_result",
          "data": {
            "text/plain": [
              "array([0.91092291, 0.77360558, 0.04445007, 0.38628827, 0.98489474])"
            ]
          },
          "metadata": {
            "tags": []
          },
          "execution_count": 58
        }
      ]
    }
  ]
}